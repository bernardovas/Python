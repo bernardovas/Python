{
 "cells": [
  {
   "cell_type": "code",
   "execution_count": 66,
   "id": "a7038a60",
   "metadata": {},
   "outputs": [
    {
     "name": "stdout",
     "output_type": "stream",
     "text": [
      "Conexão bem sucedida\n",
      "   user_id  affiliate_id register_date\n",
      "0   100019        1470.0    29/10/2022\n",
      "1   100045        1434.0    15/09/2022\n",
      "2   100065        1587.0    05/01/2022\n",
      "3   100101        1167.0    01/10/2022\n",
      "4   100103        1853.0    04/09/2022\n",
      "Index(['user_id', 'affiliate_id', 'register_date'], dtype='object')\n"
     ]
    }
   ],
   "source": [
    "import pandas as pd\n",
    "import pyodbc\n",
    "\n",
    "# Configuração da conexão com o banco de dados\n",
    "conn = pyodbc.connect(\n",
    "    'Driver={SQL Server};'\n",
    "    'Server=DESKTOP-OGB0J35;'\n",
    "    'Database=Estrela_Bet;'\n",
    "    'Trusted_Connection=yes;'\n",
    ")\n",
    "\n",
    "print (\"Conexão bem sucedida\")\n",
    "\n",
    "# Carregamento da tabela users do arquivo CSV\n",
    "trans = pd.read_csv('C:/Users/berna/Downloads/Python/users.csv', sep=';')\n",
    "trans.head()\n",
    "\n",
    "print (trans.head())\n",
    "print (trans.columns)\n",
    "\n",
    "# Inserção dos dados no banco de dados\n",
    "cursor = conn.cursor()\n",
    "for i in range(len(trans)):\n",
    "    user_id= trans.loc[i,\"user_id\"]\n",
    "    affiliate_id = trans.loc[i,\"affiliate_id\"]\n",
    "    register_date = trans.loc[i,\"register_date\"]\n",
    "    \n",
    "    query = f\"INSERT INTO users (user_id, affiliate_id, register_date) VALUES ({user_id}, '{affiliate_id}', '{register_date}')\"\n",
    "    cursor.execute(query)\n",
    "    conn.commit()\n",
    "\n",
    "# Encerramento da conexão com o banco de dados\n",
    "conn.close()"
   ]
  },
  {
   "cell_type": "code",
   "execution_count": null,
   "id": "d1db8d33",
   "metadata": {},
   "outputs": [],
   "source": []
  }
 ],
 "metadata": {
  "kernelspec": {
   "display_name": "Python 3 (ipykernel)",
   "language": "python",
   "name": "python3"
  },
  "language_info": {
   "codemirror_mode": {
    "name": "ipython",
    "version": 3
   },
   "file_extension": ".py",
   "mimetype": "text/x-python",
   "name": "python",
   "nbconvert_exporter": "python",
   "pygments_lexer": "ipython3",
   "version": "3.10.9"
  }
 },
 "nbformat": 4,
 "nbformat_minor": 5
}
