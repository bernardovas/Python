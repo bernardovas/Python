{
 "cells": [
  {
   "cell_type": "code",
   "execution_count": null,
   "id": "0733191b",
   "metadata": {
    "scrolled": false
   },
   "outputs": [
    {
     "name": "stdout",
     "output_type": "stream",
     "text": [
      "Conexão bem sucedida\n",
      "    users        date  value transaction_type\n",
      "0  100019  01/01/2022    131        withdraws\n",
      "1  100019  08/01/2022    403        withdraws\n",
      "2  100019  10/01/2022     65        withdraws\n",
      "3  100019  13/01/2022    251          deposit\n",
      "4  100019  02/02/2022    436        withdraws\n",
      "Index(['users', 'date', 'value', 'transaction_type'], dtype='object')\n"
     ]
    }
   ],
   "source": [
    "import pandas as pd\n",
    "import pyodbc\n",
    "\n",
    "# Configuração da conexão com o banco de dados\n",
    "conn = pyodbc.connect(\n",
    "    'Driver={SQL Server};'\n",
    "    'Server=DESKTOP-OGB0J35;'\n",
    "    'Database=Estrela_Bet;'\n",
    "    'Trusted_Connection=yes;'\n",
    ")\n",
    "\n",
    "print (\"Conexão bem sucedida\")\n",
    "\n",
    "# Carregamento da tabela trans do arquivo CSV\n",
    "trans = pd.read_csv('C:/Users/berna/Downloads/Python/transactions.csv', sep=';')\n",
    "trans.head()\n",
    "\n",
    "print (trans.head())\n",
    "print (trans.columns)\n",
    "\n",
    "# Inserção dos dados no banco de dados\n",
    "cursor = conn.cursor()\n",
    "for i in range(len(trans)):\n",
    "    users= trans.loc[i,\"users\"]\n",
    "    date = trans.loc[i,\"date\"]\n",
    "    value = trans.loc[i,\"value\"]\n",
    "    transaction_type = trans.loc[i,\"transaction_type\"]\n",
    "    \n",
    "    query = f\"INSERT INTO transactions (users, date, value, transaction_type) VALUES ({users}, '{date}', {value}, '{transaction_type}')\"\n",
    "    cursor.execute(query)\n",
    "    conn.commit()\n",
    "\n",
    "# Encerramento da conexão com o banco de dados\n",
    "conn.close()"
   ]
  },
  {
   "cell_type": "code",
   "execution_count": null,
   "id": "bfcc9959",
   "metadata": {},
   "outputs": [],
   "source": []
  }
 ],
 "metadata": {
  "kernelspec": {
   "display_name": "Python 3 (ipykernel)",
   "language": "python",
   "name": "python3"
  },
  "language_info": {
   "codemirror_mode": {
    "name": "ipython",
    "version": 3
   },
   "file_extension": ".py",
   "mimetype": "text/x-python",
   "name": "python",
   "nbconvert_exporter": "python",
   "pygments_lexer": "ipython3",
   "version": "3.10.9"
  }
 },
 "nbformat": 4,
 "nbformat_minor": 5
}
